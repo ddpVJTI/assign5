{
  "nbformat": 4,
  "nbformat_minor": 0,
  "metadata": {
    "colab": {
      "provenance": [],
      "authorship_tag": "ABX9TyPQUnknkfI2LG3I5MM/RzjQ",
      "include_colab_link": true
    },
    "kernelspec": {
      "name": "python3",
      "display_name": "Python 3"
    },
    "language_info": {
      "name": "python"
    }
  },
  "cells": [
    {
      "cell_type": "markdown",
      "metadata": {
        "id": "view-in-github",
        "colab_type": "text"
      },
      "source": [
        "<a href=\"https://colab.research.google.com/github/ddpVJTI/assign5/blob/main/_DAA_LAB_(231080046)%20-%2005/10_.ipynb\" target=\"_parent\"><img src=\"https://colab.research.google.com/assets/colab-badge.svg\" alt=\"Open In Colab\"/></a>"
      ]
    },
    {
      "cell_type": "markdown",
      "source": [
        "**(231080046)- CLASS WORK SUBMISSION 2**"
      ],
      "metadata": {
        "id": "14N-fAutQ-uR"
      }
    },
    {
      "cell_type": "markdown",
      "source": [
        "**Devansh Panchal** **(231080046) SY IT**"
      ],
      "metadata": {
        "id": "Fx4Jtug1PztM"
      }
    },
    {
      "cell_type": "markdown",
      "source": [
        "**22/08/2024**"
      ],
      "metadata": {
        "id": "7KJDv2dBQkSm"
      }
    },
    {
      "cell_type": "markdown",
      "source": [
        "**Q1. Implementing various sorting algorithms and exercises using sorting algorithms **\n",
        "\n",
        "    "
      ],
      "metadata": {
        "id": "VXXZpSfpQ1zD"
      }
    },
    {
      "cell_type": "markdown",
      "source": [
        "**a)Bubble Sort**"
      ],
      "metadata": {
        "id": "T6VBVZGQW_zt"
      }
    },
    {
      "cell_type": "markdown",
      "source": [
        "**THEORY:**"
      ],
      "metadata": {
        "id": "JTSuE-5ESw70"
      }
    },
    {
      "cell_type": "markdown",
      "source": [
        "**1)Working of Algorithm**\n",
        "1. Initial List:\n",
        "\n",
        " Consider an unsorted list of elements. For example, [64, 34, 25, 12, 22, 11, 90].\n",
        "\n",
        "2. Outer Loop (Passes through the list):\n",
        "\n",
        " The algorithm consists of multiple passes through the list. During each pass, the largest unsorted element \"bubbles up\" to its correct position in the list.\n",
        "\n",
        " After the first pass, the largest element will be in its correct position at the end of the list. After the second pass, the second largest will be in its correct position, and so on.\n",
        "3. Inner Loop (Comparing adjacent elements):\n",
        "\n",
        " During each pass, the algorithm compares each pair of adjacent elements. If the first element of the pair is larger than the second, they are swapped.\n",
        "\n",
        " This comparison and swap process continues for each adjacent pair of elements.\n"
      ],
      "metadata": {
        "id": "fVFN0JexS_G6"
      }
    },
    {
      "cell_type": "markdown",
      "source": [
        "**2) Time Complexity**\n",
        "\n",
        "Bubble Sort has a worst-case and average time complexity of\n",
        "𝑂\n",
        "(\n",
        "𝑛\n",
        "2\n",
        ")\n",
        "O(n\n",
        "2\n",
        " ), where\n",
        "𝑛\n",
        "n is the number of elements in the list. This makes it inefficient for large datasets."
      ],
      "metadata": {
        "id": "HSRgewkhU7dH"
      }
    },
    {
      "cell_type": "markdown",
      "source": [
        "**3) Use Cases**\n",
        "1. Educational Purposes: Bubble Sort is commonly used to teach the basics of sorting algorithms because of its simplicity and easy-to-understand mechanism.\n",
        "\n",
        "2. Small Lists: When dealing with small datasets (e.g., a few elements), Bubble Sort can be used as its simplicity and readability outweigh the inefficiency.\n",
        "\n",
        "3. Nearly Sorted Data: Minimal Swaps Required: If the data is already mostly sorted, Bubble Sort can perform very well. In the best case (already sorted), its time complexity is\n",
        "𝑂\n",
        "(\n",
        "𝑛\n",
        ")\n",
        "O(n)."
      ],
      "metadata": {
        "id": "0_I4pqS5VRT5"
      }
    },
    {
      "cell_type": "markdown",
      "source": [
        "**CODE IMPLEMENTATION:**"
      ],
      "metadata": {
        "id": "98ObFNajWBOa"
      }
    },
    {
      "cell_type": "code",
      "source": [
        "def bubble_sort(arr):\n",
        "    n = len(arr)\n",
        "    # traverse through all elements in the array\n",
        "    for i in range(n):\n",
        "        # last i elements would already be in place\n",
        "        for j in range(0, n-i-1):\n",
        "            # traversing the array from 0 to n-i-1\n",
        "            # we swap if the element found is greater than the next element\n",
        "            if arr[j] > arr[j+1]:\n",
        "                arr[j], arr[j+1] = arr[j+1], arr[j]\n",
        "\n",
        "# Example usage:\n",
        "arr = [64, 34, 25, 12, 22, 11, 90]\n",
        "bubble_sort(arr)\n",
        "print(\"Sorted array:\", arr)\n"
      ],
      "metadata": {
        "id": "efHyTC9tWAID"
      },
      "execution_count": null,
      "outputs": []
    },
    {
      "cell_type": "markdown",
      "source": [
        "**b) Insertion Sort**"
      ],
      "metadata": {
        "id": "ZdEUba4ZW4Bm"
      }
    },
    {
      "cell_type": "markdown",
      "source": [
        "**THEORY:**"
      ],
      "metadata": {
        "id": "pZLh5HI-XScu"
      }
    },
    {
      "cell_type": "markdown",
      "source": [
        "**1)Working of Algorithm**\n",
        "1. Initial Setup:\n",
        "\n",
        " We start with an unsorted list. For example, consider the list [12, 11, 13, 5, 6].\n",
        "\n",
        "2. Divide the List:\n",
        "\n",
        " The list is conceptually divided into two parts: a sorted part and an unsorted part.\n",
        "\n",
        " Initially, the sorted part contains only the first element (which by itself is trivially sorted), and the rest of the list is unsorted.\n",
        "\n",
        " Example: [12 | 11, 13, 5, 6] (Here, 12 is the sorted part, and the rest is unsorted).\n",
        "\n",
        "3. Iterate Through the List:\n",
        "\n",
        " Starting from the second element (index 1), take each element one by one and insert it into its correct position within the sorted part of the list.\n",
        "\n",
        "4. Insertion Process:\n",
        "\n",
        " For each element in the unsorted part:\n",
        "  1. Pick the Element: Pick the current element from the unsorted part.\n",
        "  2. Shift Elements: Compare it with elements in the sorted part from right to left. Shift all the elements in the sorted part that are greater than the picked element to the right by one position.\n",
        "  3. Insert the Element: Insert the picked element into its correct position in the sorted part.\n",
        "  \n",
        " This process ensures that after each iteration, the sorted part of the list grows by one element, and the unsorted part shrinks.\n",
        "\n"
      ],
      "metadata": {
        "id": "NE4X_CBpXYcD"
      }
    },
    {
      "cell_type": "markdown",
      "source": [
        "**2) Time Complexity**\n",
        "\n",
        "-Worst-case:\n",
        "𝑂\n",
        "(\n",
        "𝑛\n",
        "2\n",
        ")\n",
        "O(n\n",
        "2\n",
        " ) when the list is sorted in reverse order.\n",
        "\n",
        "-Best-case:\n",
        "𝑂\n",
        "(\n",
        "𝑛\n",
        ")\n",
        "O(n) when the list is already sorted (no shifting needed)."
      ],
      "metadata": {
        "id": "Wmfq0Zj8YrQ5"
      }
    },
    {
      "cell_type": "markdown",
      "source": [
        "**3) Use Cases**\n",
        "\n",
        "1. Adaptive Sorting: Insertion Sort is particularly efficient when the input list is already partially sorted. In the best-case scenario (an already sorted list), its time complexity is\n",
        "𝑂\n",
        "(\n",
        "𝑛\n",
        ")\n",
        "O(n), making it very fast.\n",
        "\n",
        "2. Sorting Data with Minor Inversions: If the data is mostly sorted with only a few elements out of place, Insertion Sort can quickly correct the order with minimal comparisons and shifts."
      ],
      "metadata": {
        "id": "5WG-E1z4ZF78"
      }
    },
    {
      "cell_type": "markdown",
      "source": [
        "**CODE IMPLEMENTATION:**"
      ],
      "metadata": {
        "id": "QVjp_HPgZoyG"
      }
    },
    {
      "cell_type": "code",
      "source": [
        "def insertion_sort(arr):\n",
        "    # traverse through 1 to len(arr)\n",
        "    for i in range(1, len(arr)):\n",
        "        key = arr[i]\n",
        "        # we move elements of arr[0..i-1], that are greater than key,\n",
        "        # to one position ahead of their current position\n",
        "        j = i - 1\n",
        "        while j >= 0 and key < arr[j]:\n",
        "            arr[j + 1] = arr[j]\n",
        "            j -= 1\n",
        "        arr[j + 1] = key\n",
        "\n",
        "# Example usage:\n",
        "arr = [12, 11, 13, 5, 6]\n",
        "insertion_sort(arr)\n",
        "print(\"Sorted array:\", arr)\n"
      ],
      "metadata": {
        "id": "-OAsSClpZrs1"
      },
      "execution_count": null,
      "outputs": []
    },
    {
      "cell_type": "markdown",
      "source": [
        "**(231080046)- CLASS WORK SUBMISSION 3**"
      ],
      "metadata": {
        "id": "wS9nsfGDdbxz"
      }
    },
    {
      "cell_type": "markdown",
      "source": [
        "**Devansh Panchal** **(231080046) SY IT**"
      ],
      "metadata": {
        "id": "FuXBXYXNduQ9"
      }
    },
    {
      "cell_type": "markdown",
      "source": [
        "**07/09/2024**"
      ],
      "metadata": {
        "id": "SgXEJgawd1jc"
      }
    },
    {
      "cell_type": "markdown",
      "source": [
        "**Q1. Assignment: Depth-First Search (DFS) and Breadth-First Search (BFS) Algorithms\n",
        "\n",
        "Objective: Implement and analyze the Depth-First Search (DFS) and Breadth-First Search (BFS) algorithms. Understand their theoretical foundations, compare their performance, and solve practical graph problems using these algorithms.**\n",
        "\n",
        "    "
      ],
      "metadata": {
        "id": "njcfIfjad_iF"
      }
    },
    {
      "cell_type": "markdown",
      "source": [
        "**THEORY**"
      ],
      "metadata": {
        "id": "qo6I3u5YgLlk"
      }
    },
    {
      "cell_type": "markdown",
      "source": [
        "Description:\n",
        "\n",
        "Depth-First Search (DFS) is a graph traversal algorithm that explores a graph by diving as deep as possible into a branch before backtracking. It starts at a given node (source) and explores along each branch before moving to a new one. DFS can be implemented using either recursion or an explicit stack.\n",
        "\n",
        "Principles:\n",
        "*   DFS explores as far down a branch as possible before\n",
        "    backtracking to the last unexplored node.\n",
        "*   The algorithm uses a stack (either explicitly or through recursion) to track the current path of exploration.\n",
        "*   When a node has no unvisited neighbors, DFS backtracks and explores other branches.\n",
        "\n",
        "Key Differences between DFS and BFS:\n",
        "\n",
        "\n",
        "*   DFS: Focuses on depth, exploring a path fully before moving to the next.\n",
        "*   BFS (Breadth-First Search): Explores all neighbors of a node first before moving deeper into the graph, effectively exploring level by level.\n",
        "\n",
        "*   BFS (Breadth-First Search): Explores all neighbors of a node first before moving deeper into the graph, effectively exploring level by level.\n",
        "\n",
        "Time Complexity:\n",
        "\n",
        "*   List Adjacency Matrix: O(V²) where V is the number of vertices, since checking the neighbors of each vertex takes O(V) and we do this for each of the V vertices.tem\n",
        "*   Adjacency List: O(V + E), where E is the number of edges, since each edge and vertex is processed once.\n",
        "\n",
        "Space Complexity:\n",
        "\n",
        "\n",
        "*   Adjacency Matrix: O(V²) for storing the matrix itself, plus O(V) for the recursion stack or explicit stack used in DFS.m\n",
        "*   Adjacency List: O(V + E) for storing the graph and O(V) for the recursion stack or explicit stack.\n",
        "\n",
        "\n",
        "\n",
        "\n",
        "\n",
        "\n",
        "\n",
        "\n",
        "\n"
      ],
      "metadata": {
        "id": "NhTj9BPegjKH"
      }
    },
    {
      "cell_type": "markdown",
      "source": [
        "Description:\n",
        "\n",
        "Breadth First Search:\n",
        "\n",
        "Breadth-First Search (BFS) is a graph traversal algorithm that explores all nodes at the present \"depth\" (i.e., distance from the starting node) before moving to nodes at the next level. BFS is often implemented using a queue, and it is useful for finding the shortest path in unweighted graphs.\n",
        "\n",
        "Principles:\n",
        "\n",
        "*   BFS starts at the source node and explores all its neighbors before moving on to the neighbors' neighbors.\n",
        "*   It uses a queue to explore nodes in a level-wise manner.\n",
        "*   BFS is guaranteed to find the shortest path (in terms of the number of edges) in an unweighted graph.\n",
        "\n",
        "Use Cases for BFS vs DFS:\n",
        "\n",
        "Why BFS is preferred:\n",
        "\n",
        "- When finding the shortest path in unweighted graphs (e.g., social network connections).\n",
        "- In solving problems that involve exploring layers or levels (e.g., finding the shortest route in a maze).\n",
        "- In scenarios like peer-to-peer networks and web crawlers where we want to explore neighbors first.\n",
        "\n",
        "Why DFS is preferred:\n",
        "\n",
        "- For problems involving backtracking or exhaustive searches (e.g., puzzles like Sudoku).\n",
        "- When space complexity is a concern, DFS typically uses less space than BFS in dense graphs.\n",
        "- For topological sorting and finding strongly connected components.\n",
        "\n",
        "Time Complexity:\n",
        "\n",
        "- Adjacency Matrix: O(V²), since for each vertex, we may need to check all other vertices to find its neighbors.\n",
        "- Adjacency List: O(V + E), where V is the number of vertices and E is the number of edges, since each edge and vertex is processed once.\n",
        "\n",
        "Space Complexity:  \n",
        "\n",
        "- Adjacency Matrix: O(V²) for storing the matrix and O(V) for the queue used in BFS.\n",
        "- Adjacency List: O(V + E) for the list storage, plus O(V) for the queue.\n",
        "\n"
      ],
      "metadata": {
        "id": "nw38DTmg6pdB"
      }
    },
    {
      "cell_type": "markdown",
      "source": [
        "Implementation"
      ],
      "metadata": {
        "id": "srxMvjIbM1Kw"
      }
    },
    {
      "cell_type": "markdown",
      "source": [
        "Graph Representation:\n",
        "\n",
        "We will implement both the adjacency matrix and adjacency list.\n",
        "\n",
        "\n",
        "DFS (Depth First Search):Recursive DFS explores all the nodes by going as deep as possible before backtracking.Iterative DFS mimics recursion using a stack data structure.\n",
        "\n",
        "BFS (Breadth-First Search):BFS explores the graph layer by layer using a queue.Shortest Path using BFS finds the shortest path in an unweighted graph by leveraging the BFS traversal."
      ],
      "metadata": {
        "id": "hj-Pa37HNb8A"
      }
    },
    {
      "cell_type": "code",
      "source": [
        "from collections import defaultdict, deque\n",
        "\n",
        "class Graph:\n",
        "    def __init__(self, vertices):\n",
        "        self.vertices = vertices\n",
        "        self.adj_matrix = [[0] * vertices for _ in range(vertices)]\n",
        "        self.adj_list = defaultdict(list)\n",
        "\n",
        "    # Add edge for adjacency matrix\n",
        "    def add_edge_matrix(self, u, v):\n",
        "        self.adj_matrix[u][v] = 1\n",
        "        self.adj_matrix[v][u] = 1\n",
        "\n",
        "    # Add edge for adjacency list\n",
        "    def add_edge_list(self, u, v):\n",
        "        self.adj_list[u].append(v)\n",
        "        self.adj_list[v].append(u)\n",
        "\n",
        "    # Recursive DFS using adjacency matrix\n",
        "    def dfs_recursive_matrix(self, node, visited=None):\n",
        "        if visited is None:\n",
        "            visited = set()\n",
        "        visited.add(node)\n",
        "        result = [node]\n",
        "\n",
        "        for i, connected in enumerate(self.adj_matrix[node]):\n",
        "            if connected and i not in visited:\n",
        "                result.extend(self.dfs_recursive_matrix(i, visited))\n",
        "\n",
        "        return result\n",
        "\n",
        "    # Iterative DFS using adjacency matrix\n",
        "    def dfs_iterative_matrix(self, start):\n",
        "        visited = set()\n",
        "        stack = [start]\n",
        "        result = []\n",
        "\n",
        "        while stack:\n",
        "            node = stack.pop()\n",
        "            if node not in visited:\n",
        "                visited.add(node)\n",
        "                result.append(node)\n",
        "                for i in range(self.vertices - 1, -1, -1):\n",
        "                    if self.adj_matrix[node][i] and i not in visited:\n",
        "                        stack.append(i)\n",
        "\n",
        "        return result\n",
        "\n",
        "    # BFS using adjacency matrix\n",
        "    def bfs_matrix(self, start):\n",
        "        visited = set([start])\n",
        "        queue = deque([start])\n",
        "        result = []\n",
        "\n",
        "        while queue:\n",
        "            node = queue.popleft()\n",
        "            result.append(node)\n",
        "\n",
        "            for i, connected in enumerate(self.adj_matrix[node]):\n",
        "                if connected and i not in visited:\n",
        "                    visited.add(i)\n",
        "                    queue.append(i)\n",
        "\n",
        "        return result\n",
        "\n",
        "    # Shortest path using BFS (Adjacency Matrix)\n",
        "    def bfs_shortest_path_matrix(self, start):\n",
        "        distances = {i: float('inf') for i in range(self.vertices)}\n",
        "        distances[start] = 0\n",
        "        queue = deque([start])\n",
        "\n",
        "        while queue:\n",
        "            node = queue.popleft()\n",
        "\n",
        "            for i, connected in enumerate(self.adj_matrix[node]):\n",
        "                if connected and distances[i] == float('inf'):\n",
        "                    distances[i] = distances[node] + 1\n",
        "                    queue.append(i)\n",
        "\n",
        "        return distances\n",
        "\n",
        "    # Recursive DFS using adjacency list\n",
        "    def dfs_recursive_list(self, node, visited=None):\n",
        "        if visited is None:\n",
        "            visited = set()\n",
        "        visited.add(node)\n",
        "        result = [node]\n",
        "\n",
        "        for neighbor in self.adj_list[node]:\n",
        "            if neighbor not in visited:\n",
        "                result.extend(self.dfs_recursive_list(neighbor, visited))\n",
        "\n",
        "        return result\n",
        "\n",
        "    # Iterative DFS using adjacency list\n",
        "    def dfs_iterative_list(self, start):\n",
        "        visited = set()\n",
        "        stack = [start]\n",
        "        result = []\n",
        "\n",
        "        while stack:\n",
        "            node = stack.pop()\n",
        "            if node not in visited:\n",
        "                visited.add(node)\n",
        "                result.append(node)\n",
        "                for neighbor in reversed(self.adj_list[node]):\n",
        "                    if neighbor not in visited:\n",
        "                        stack.append(neighbor)\n",
        "\n",
        "        return result\n",
        "\n",
        "    # BFS using adjacency list\n",
        "    def bfs_list(self, start):\n",
        "        visited = set([start])\n",
        "        queue = deque([start])\n",
        "        result = []\n",
        "\n",
        "        while queue:\n",
        "            node = queue.popleft()\n",
        "            result.append(node)\n",
        "\n",
        "            for neighbor in self.adj_list[node]:\n",
        "                if neighbor not in visited:\n",
        "                    visited.add(neighbor)\n",
        "                    queue.append(neighbor)\n",
        "\n",
        "        return result\n",
        "\n",
        "    # Shortest path using BFS (Adjacency List)\n",
        "    def bfs_shortest_path_list(self, start):\n",
        "        distances = {i: float('inf') for i in self.adj_list}\n",
        "        distances[start] = 0\n",
        "        queue = deque([start])\n",
        "\n",
        "        while queue:\n",
        "            node = queue.popleft()\n",
        "\n",
        "            for neighbor in self.adj_list[node]:\n",
        "                if distances[neighbor] == float('inf'):\n",
        "                    distances[neighbor] = distances[node] + 1\n",
        "                    queue.append(neighbor)\n",
        "\n",
        "        return distances\n",
        "\n",
        "# Example usage:\n",
        "g = Graph(5)\n",
        "g.add_edge_matrix(0, 1)\n",
        "g.add_edge_matrix(0, 2)\n",
        "g.add_edge_matrix(1, 3)\n",
        "g.add_edge_matrix(1, 4)\n",
        "\n",
        "print(\"DFS Recursive (Matrix):\", g.dfs_recursive_matrix(0))\n",
        "print(\"DFS Iterative (Matrix):\", g.dfs_iterative_matrix(0))\n",
        "print(\"BFS (Matrix):\", g.bfs_matrix(0))\n",
        "print(\"Shortest Path (Matrix):\", g.bfs_shortest_path_matrix(0))\n",
        "\n",
        "g.add_edge_list(0, 1)\n",
        "g.add_edge_list(0, 2)\n",
        "g.add_edge_list(1, 3)\n",
        "g.add_edge_list(1, 4)\n",
        "\n",
        "print(\"DFS Recursive (List):\", g.dfs_recursive_list(0))\n",
        "print(\"DFS Iterative (List):\", g.dfs_iterative_list(0))\n",
        "print(\"BFS (List):\", g.bfs_list(0))\n",
        "print(\"Shortest Path (List):\", g.bfs_shortest_path_list(0))"
      ],
      "metadata": {
        "id": "XQh93b2COGLn"
      },
      "execution_count": null,
      "outputs": []
    },
    {
      "cell_type": "markdown",
      "source": [
        "Explanation\n",
        "\n",
        "Adjacency List: Uses a dictionary where each key is a node, and the values are lists of neighbors.\n",
        "\n",
        "DFS Recursive: This implementation uses recursion to visit nodes depth-wise.\n",
        "\n",
        "DFS Iterative: Mimics recursive DFS using a stack.\n",
        "\n",
        "BFS: Traverses nodes level-wise using a queue.\n",
        "\n",
        "Shortest Path Calculation: BFS finds the shortest path in an unweighted graph, returning a dictionary where keys are nodes and values are the shortest path lengths from the starting node."
      ],
      "metadata": {
        "id": "-l4qIbJbPwNX"
      }
    },
    {
      "cell_type": "markdown",
      "source": [
        "Practical Problems:\n",
        "\n",
        "Connected Components"
      ],
      "metadata": {
        "id": "yDCwxPthRIU5"
      }
    },
    {
      "cell_type": "markdown",
      "source": [
        "\n",
        "To solve the problem of finding connected components in an undirected graph using DFS, we can perform a modified DFS that explores all nodes, keeping track of the nodes visited. Each DFS call will explore one connected component, and we will repeat the process for all unvisited nodes to find all components.\n",
        "Approach:\n",
        "\n",
        "- DFS for Connected Components: We run DFS for each unvisited node. Every DFS traversal will give us one connected component.\n",
        "\n",
        "- Adjacency Matrix and Adjacency List: The implementation works for both types of graph representations."
      ],
      "metadata": {
        "id": "qHtUI2ZhRlqQ"
      }
    },
    {
      "cell_type": "code",
      "source": [
        "from collections import defaultdict\n",
        "\n",
        "class Graph:\n",
        "    def __init__(self, vertices):\n",
        "        self.vertices = vertices\n",
        "        self.adj_matrix = [[0] * vertices for _ in range(vertices)]\n",
        "        self.adj_list = defaultdict(list)\n",
        "\n",
        "    # Add edge for adjacency matrix\n",
        "    def add_edge_matrix(self, u, v):\n",
        "        self.adj_matrix[u][v] = 1\n",
        "        self.adj_matrix[v][u] = 1\n",
        "\n",
        "    # Add edge for adjacency list\n",
        "    def add_edge_list(self, u, v):\n",
        "        self.adj_list[u].append(v)\n",
        "        self.adj_list[v].append(u)\n",
        "\n",
        "    # DFS to find a connected component in adjacency matrix\n",
        "    def dfs_matrix(self, node, visited):\n",
        "        visited.add(node)\n",
        "        component = [node]\n",
        "\n",
        "        for i, connected in enumerate(self.adj_matrix[node]):\n",
        "            if connected and i not in visited:\n",
        "                component.extend(self.dfs_matrix(i, visited))\n",
        "\n",
        "        return component\n",
        "\n",
        "    # DFS to find a connected component in adjacency list\n",
        "    def dfs_list(self, node, visited):\n",
        "        visited.add(node)\n",
        "        component = [node]\n",
        "\n",
        "        for neighbor in self.adj_list[node]:\n",
        "            if neighbor not in visited:\n",
        "                component.extend(self.dfs_list(neighbor, visited))\n",
        "\n",
        "        return component\n",
        "\n",
        "    # Find all connected components using adjacency matrix\n",
        "    def connected_components_matrix(self):\n",
        "        visited = set()\n",
        "        components = []\n",
        "\n",
        "        for node in range(self.vertices):\n",
        "            if node not in visited:\n",
        "                component = self.dfs_matrix(node, visited)\n",
        "                components.append(component)\n",
        "\n",
        "        return components\n",
        "\n",
        "    # Find all connected components using adjacency list\n",
        "    def connected_components_list(self):\n",
        "        visited = set()\n",
        "        components = []\n",
        "\n",
        "        for node in range(self.vertices):\n",
        "            if node not in visited:\n",
        "                component = self.dfs_list(node, visited)\n",
        "                components.append(component)\n",
        "\n",
        "        return components\n",
        "\n",
        "\n",
        "# Example usage:\n",
        "g = Graph(6)\n",
        "# Adding edges for adjacency matrix and list (Same edges for both)\n",
        "g.add_edge_matrix(0, 1)\n",
        "g.add_edge_matrix(0, 2)\n",
        "g.add_edge_matrix(3, 4)\n",
        "g.add_edge_matrix(5, 5)  # A single isolated node\n",
        "\n",
        "g.add_edge_list(0, 1)\n",
        "g.add_edge_list(0, 2)\n",
        "g.add_edge_list(3, 4)\n",
        "g.add_edge_list(5, 5)  # A single isolated node\n",
        "\n",
        "print(\"Connected Components (Matrix):\", g.connected_components_matrix())\n",
        "print(\"Connected Components (List):\", g.connected_components_list())"
      ],
      "metadata": {
        "id": "MB13XQBvS6w9"
      },
      "execution_count": null,
      "outputs": []
    },
    {
      "cell_type": "markdown",
      "source": [
        "Explanation:\n",
        "\n",
        "DFS Function: For each node that has not been visited, we start a DFS traversal that collects all nodes in the current connected component.\n",
        "\n",
        "Connected Components: We repeat this process for all nodes. Each DFS traversal will return one connected component, which is stored in a list.\n",
        "\n",
        "Input: The adjacency matrix or adjacency list representation of the graph.\n",
        "Output: A list of lists where each sublist is a connected component."
      ],
      "metadata": {
        "id": "NGeqXedRS-na"
      }
    },
    {
      "cell_type": "markdown",
      "source": [
        "Example Output:\n",
        "\n",
        "For the graph with the following edges:\n",
        "\n",
        "0 connected to 1, 0 connected to 2 (forms one connected component)\n",
        "3 connected to 4 (forms another connected component)\n",
        "Node 5 is isolated (forms its own component)"
      ],
      "metadata": {
        "id": "brlRkomLTieJ"
      }
    },
    {
      "cell_type": "code",
      "source": [
        "Connected Components (Matrix): [[0, 1, 2], [3, 4], [5]]\n",
        "Connected Components (List): [[0, 1, 2], [3, 4], [5]]"
      ],
      "metadata": {
        "id": "kN6V_0GnTnr9"
      },
      "execution_count": null,
      "outputs": []
    },
    {
      "cell_type": "markdown",
      "source": [
        "This method ensures that all connected components in an undirected graph are identified."
      ],
      "metadata": {
        "id": "FVdycvxkUGh0"
      }
    },
    {
      "cell_type": "markdown",
      "source": [
        "**(231080046)- CLASS WORK SUBMISSION 4 (a)**"
      ],
      "metadata": {
        "id": "S8l1G9pD84e3"
      }
    },
    {
      "cell_type": "markdown",
      "source": [
        "**Devansh Panchal** **(231080046) SY IT**"
      ],
      "metadata": {
        "id": "ZC3I0h0W9K-N"
      }
    },
    {
      "cell_type": "markdown",
      "source": [
        "**05/10/2024**"
      ],
      "metadata": {
        "id": "qofy6qsv9ofj"
      }
    },
    {
      "cell_type": "markdown",
      "source": [
        "Q. Write code to find the max sum subarray using two approaches:\n",
        "\n",
        "\n",
        "1. Brute force and show the working of one example(not a very big one)\n",
        "2. The sliding window here also shows the working of one example."
      ],
      "metadata": {
        "id": "jjFLGXcK96ck"
      }
    },
    {
      "cell_type": "markdown",
      "source": [
        "1. Brute Force Approach\n",
        "The brute force approach involves checking all possible subarrays and calculating their sums. The subarray with the maximum sum is then returned. This approach has a time complexity of\n",
        "𝑂\n",
        "(\n",
        "𝑛\n",
        "2\n",
        ")\n",
        "O(n\n",
        "2\n",
        " ), where\n",
        "𝑛\n",
        "n is the length of the array."
      ],
      "metadata": {
        "id": "apx_kB5z-GY7"
      }
    },
    {
      "cell_type": "code",
      "source": [
        "#include <iostream>\n",
        "#include <vector>\n",
        "#include <climits>\n",
        "using namespace std;\n",
        "\n",
        "int maxSubArrayBruteForce(vector<int>& arr) {\n",
        "    int maxSum = INT_MIN;  // Initialize with the smallest possible integer\n",
        "    int n = arr.size();\n",
        "\n",
        "    // Iterate over all subarrays\n",
        "    for (int i = 0; i < n; i++) {\n",
        "        int currentSum = 0;\n",
        "        for (int j = i; j < n; j++) {\n",
        "            currentSum += arr[j];  // Add current element to currentSum\n",
        "            maxSum = max(maxSum, currentSum);  // Update maxSum if currentSum is greater\n",
        "        }\n",
        "    }\n",
        "\n",
        "    return maxSum;\n",
        "}\n",
        "\n",
        "int main() {\n",
        "    vector<int> arr = {-2, 1, -3, 4, -1, 2, 1, -5, 4};\n",
        "    int maxSum = maxSubArrayBruteForce(arr);\n",
        "    cout << \"Maximum sum using Brute Force: \" << maxSum << endl;\n",
        "    return 0;\n",
        "}\n"
      ],
      "metadata": {
        "id": "1_bSXKa0-OZV"
      },
      "execution_count": null,
      "outputs": []
    },
    {
      "cell_type": "markdown",
      "source": [
        "Example:\n",
        "For the input array {-2, 1, -3, 4, -1, 2, 1, -5, 4}, the brute force approach will iterate over all possible subarrays:\n",
        "\n",
        "Subarray [4, -1, 2, 1] gives the maximum sum of 6."
      ],
      "metadata": {
        "id": "O3NUUSoS-VgZ"
      }
    },
    {
      "cell_type": "markdown",
      "source": [
        "2. Sliding Window Approach (Kadane's Algorithm)\n",
        "Kadane's Algorithm optimizes the brute force solution by using the sliding window technique. It calculates the sum of subarrays as it iterates through the array, keeping track of the maximum sum encountered. This has a time complexity of\n",
        "𝑂\n",
        "(\n",
        "𝑛\n",
        ")\n",
        "O(n)."
      ],
      "metadata": {
        "id": "etVVNzuB-XiA"
      }
    },
    {
      "cell_type": "code",
      "source": [
        "#include <iostream>\n",
        "#include <vector>\n",
        "#include <climits>\n",
        "using namespace std;\n",
        "\n",
        "int maxSubArraySlidingWindow(vector<int>& arr) {\n",
        "    int maxSum = arr[0];  // Initialize with the first element\n",
        "    int currentSum = arr[0];\n",
        "\n",
        "    for (int i = 1; i < arr.size(); i++) {\n",
        "        currentSum = max(arr[i], currentSum + arr[i]);  // Either start a new subarray or extend the current one\n",
        "        maxSum = max(maxSum, currentSum);  // Update maxSum if currentSum is greater\n",
        "    }\n",
        "\n",
        "    return maxSum;\n",
        "}\n",
        "\n",
        "int main() {\n",
        "    vector<int> arr = {-2, 1, -3, 4, -1, 2, 1, -5, 4};\n",
        "    int maxSum = maxSubArraySlidingWindow(arr);\n",
        "    cout << \"Maximum sum using Sliding Window (Kadane's Algorithm): \" << maxSum << endl;\n",
        "    return 0;\n",
        "}\n"
      ],
      "metadata": {
        "id": "8r4FwjNC-Z9o"
      },
      "execution_count": null,
      "outputs": []
    },
    {
      "cell_type": "markdown",
      "source": [
        "Example:\n",
        "For the same input array {-2, 1, -3, 4, -1, 2, 1, -5, 4}, Kadane’s algorithm will:\n",
        "\n",
        "Start with currentSum = -2.\n",
        "At each step, decide whether to add the current element to the previous sum or start a new subarray.\n",
        "The subarray [4, -1, 2, 1] gives the maximum sum of 6."
      ],
      "metadata": {
        "id": "r7OHvYQo-cCo"
      }
    },
    {
      "cell_type": "markdown",
      "source": [
        "Explanation\n",
        "1. Brute Force Approach:\n",
        "For every element in the array, it considers all subarrays starting from that element. So, for array {-2, 1, -3, 4, -1, 2, 1, -5, 4}:\n",
        "\n",
        "First subarray starting from -2: {-2}, {-2, 1}, {-2, 1, -3}, ...\n",
        "Second subarray starting from 1: {1}, {1, -3}, {1, -3, 4}, ...\n",
        "And so on.\n",
        "The algorithm checks all these subarrays and returns the one with the maximum sum.\n",
        "\n",
        "2. Sliding Window Approach (Kadane's Algorithm):\n",
        "This algorithm moves through the array while maintaining the sum of the current subarray and comparing it to the maximum sum encountered so far. If the sum goes negative, it starts a new subarray at the next element. For array {-2, 1, -3, 4, -1, 2, 1, -5, 4}:\n",
        "\n",
        "Start with currentSum = -2, maxSum = -2.\n",
        "Move to 1: currentSum = 1, maxSum = 1.\n",
        "Continue moving through the array, calculating the maximum sum on the fly."
      ],
      "metadata": {
        "id": "_i5BDeCK-fCY"
      }
    }
  ]
}